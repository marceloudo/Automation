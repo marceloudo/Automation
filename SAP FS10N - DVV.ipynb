{
 "cells": [
  {
   "cell_type": "markdown",
   "id": "5532263f",
   "metadata": {},
   "source": [
    "# <font color=green>SAP FS10N - VARIABLE EXPENSES</font>\n",
    "***\n",
    "DATA EXTRACTION\n",
    "***"
   ]
  },
  {
   "cell_type": "code",
   "execution_count": 236,
   "id": "184046d3",
   "metadata": {},
   "outputs": [],
   "source": [
    "# Importing the Libraries\n",
    "import win32com.client\n",
    "import pandas as pd\n",
    "from datetime import datetime\n",
    "import subprocess"
   ]
  },
  {
   "cell_type": "markdown",
   "id": "741a2c0e",
   "metadata": {},
   "source": [
    "## <font color=green>1 - START</font>\n",
    "***\n",
    "Always we have those variables except st_string"
   ]
  },
  {
   "cell_type": "code",
   "execution_count": 237,
   "id": "bf5feace",
   "metadata": {},
   "outputs": [
    {
     "data": {
      "text/plain": [
       "'20230727 1059'"
      ]
     },
     "execution_count": 237,
     "metadata": {},
     "output_type": "execute_result"
    }
   ],
   "source": [
    "SapGuiAuto = win32com.client.GetObject('SAPGUI')\n",
    "application = SapGuiAuto.GetScriptingEngine\n",
    "connection = application.Children(0)\n",
    "session = connection.Children(0)\n",
    "now = datetime.now()\n",
    "dt_string = now.strftime(\"%Y%m%d %H%M\")\n",
    "dt_string"
   ]
  },
  {
   "cell_type": "markdown",
   "id": "293c6ce5",
   "metadata": {},
   "source": [
    "## <font color=green>2 - Folder and Filename</font>\n",
    "***\n",
    "Take a look at folderdir that has those \"\\\\\" marks different from we see by using OS."
   ]
  },
  {
   "cell_type": "code",
   "execution_count": 238,
   "id": "a2b53a80",
   "metadata": {},
   "outputs": [
    {
     "data": {
      "text/plain": [
       "'C:\\\\Users\\\\20056306\\\\HASH\\\\FS10N-20230727 1059.XLSX'"
      ]
     },
     "execution_count": 238,
     "metadata": {},
     "output_type": "execute_result"
    }
   ],
   "source": [
    "filename = \"FS10N-\" + dt_string + \".XLSX\"\n",
    "folderdir = \"C:\\\\Users\\\\20056306\\\\HASH\\\\\"\n",
    "folderdir + filename\n"
   ]
  },
  {
   "cell_type": "markdown",
   "id": "be0bbfca",
   "metadata": {},
   "source": [
    "## <font color=green>3 - CALL FS10N</font>\n",
    "***\n",
    "Calling SAP Transaction"
   ]
  },
  {
   "cell_type": "code",
   "execution_count": 239,
   "id": "92f75dbd",
   "metadata": {},
   "outputs": [],
   "source": [
    "session.findById(\"wnd[0]\").maximize()\n",
    "session.findById(\"wnd[0]/tbar[0]/okcd\").Text = \"/nFS10N\"\n",
    "session.findById(\"wnd[0]\").sendVKey(0)\n",
    "session.findById(\"wnd[0]/tbar[1]/btn[17]\").press()"
   ]
  },
  {
   "cell_type": "markdown",
   "id": "c1526c6c",
   "metadata": {},
   "source": [
    "## <font color=green>4 - VARIANT BOX</font>\n",
    "***\n",
    "Dealing with the variant box by letting it empty."
   ]
  },
  {
   "cell_type": "code",
   "execution_count": 240,
   "id": "d01387dd",
   "metadata": {},
   "outputs": [],
   "source": [
    "session.findById(\"wnd[1]/usr/txtENAME-LOW\").Text = \"\"\n",
    "session.findById(\"wnd[1]/usr/txtENAME-LOW\").SetFocus\n",
    "session.findById(\"wnd[1]/usr/txtENAME-LOW\").caretPosition = 0\n",
    "session.findById(\"wnd[1]/tbar[0]/btn[8]\").press()"
   ]
  },
  {
   "cell_type": "markdown",
   "id": "5aa9a0a3",
   "metadata": {},
   "source": [
    "## <font color=green>5 - VARIANT REGARDING VARIABLE EXPENSES</font>\n",
    "***\n",
    "In the list of variants, we gotta choose the VARIABLE EXPENSES variant."
   ]
  },
  {
   "cell_type": "code",
   "execution_count": 241,
   "id": "255ef9eb",
   "metadata": {},
   "outputs": [],
   "source": [
    "session.findById(\"wnd[1]/usr/cntlALV_CONTAINER_1/shellcont/shell\").currentCellRow = 15\n",
    "session.findById(\"wnd[1]/usr/cntlALV_CONTAINER_1/shellcont/shell\").firstVisibleRow = 9\n",
    "session.findById(\"wnd[1]/usr/cntlALV_CONTAINER_1/shellcont/shell\").selectedRows = \"15\"\n",
    "session.findById(\"wnd[1]/tbar[0]/btn[2]\").press()"
   ]
  },
  {
   "cell_type": "markdown",
   "id": "52186834",
   "metadata": {},
   "source": [
    "## <font color=green>6- SET UP TRANSACTION</font>\n",
    "***\n",
    "Setting up transaction by defining Year and Month."
   ]
  },
  {
   "cell_type": "code",
   "execution_count": 242,
   "id": "ce11c5a4",
   "metadata": {},
   "outputs": [],
   "source": [
    "session.findById(\"wnd[0]/usr/txtGP_GJAHR\").Text = 2023\n",
    "session.findById(\"wnd[0]/usr/txtGP_GJAHR\").SetFocus()\n",
    "session.findById(\"wnd[0]/usr/txtGP_GJAHR\").caretPosition = 4\n",
    "session.findById(\"wnd[0]/tbar[1]/btn[8]\").press()"
   ]
  },
  {
   "cell_type": "markdown",
   "id": "7f794a7b",
   "metadata": {},
   "source": [
    "## <font color=green>7 - MONTHS AND VARIABLE EXPENSES FIGURES</font>\n",
    "***\n",
    "Choose one of them to have the details."
   ]
  },
  {
   "cell_type": "code",
   "execution_count": 243,
   "id": "50c00401",
   "metadata": {},
   "outputs": [],
   "source": [
    "session.findById(\"wnd[0]/usr/cntlFDBL_BALANCE_CONTAINER/shellcont/shell\").setCurrentCell(\"1\", \"BALANCE\")\n",
    "session.findById(\"wnd[0]/usr/cntlFDBL_BALANCE_CONTAINER/shellcont/shell\").selectedRows = \"1\"\n",
    "session.findById(\"wnd[0]/usr/cntlFDBL_BALANCE_CONTAINER/shellcont/shell\").doubleClickCurrentCell()\n",
    "session.findById(\"wnd[0]/tbar[1]/btn[33]\").press()"
   ]
  },
  {
   "cell_type": "markdown",
   "id": "fa3a0aa0",
   "metadata": {},
   "source": [
    "## <font color=green>8 - LAYOUT BOX</font>\n",
    "***\n",
    "Choosing one of the layouts."
   ]
  },
  {
   "cell_type": "code",
   "execution_count": 244,
   "id": "612cfcf0",
   "metadata": {},
   "outputs": [],
   "source": [
    "session.findById(\"wnd[1]/usr/ssubD0500_SUBSCREEN:SAPLSLVC_DIALOG:0501/cntlG51_CONTAINER/shellcont/shell\").setCurrentCell(151, \"TEXT\")\n",
    "session.findById(\"wnd[1]/usr/ssubD0500_SUBSCREEN:SAPLSLVC_DIALOG:0501/cntlG51_CONTAINER/shellcont/shell\").firstVisibleRow = 145\n",
    "session.findById(\"wnd[1]/usr/ssubD0500_SUBSCREEN:SAPLSLVC_DIALOG:0501/cntlG51_CONTAINER/shellcont/shell\").selectedRows = \"151\"\n",
    "session.findById(\"wnd[1]/usr/ssubD0500_SUBSCREEN:SAPLSLVC_DIALOG:0501/cntlG51_CONTAINER/shellcont/shell\").clickCurrentCell()"
   ]
  },
  {
   "cell_type": "markdown",
   "id": "a1f3744d",
   "metadata": {},
   "source": [
    "## <font color=green>9 - DATA EXPORT</font>\n",
    "***\n",
    "Generating excel file."
   ]
  },
  {
   "cell_type": "code",
   "execution_count": 245,
   "id": "7a9e99b1",
   "metadata": {},
   "outputs": [],
   "source": [
    "session.findById(\"wnd[0]\").maximize()\n",
    "session.findById(\"wnd[0]/mbar/menu[0]/menu[3]/menu[1]\").select()\n",
    "session.findById(\"wnd[1]/usr/ctxtDY_PATH\").text = folderdir\n",
    "session.findById(\"wnd[1]/usr/ctxtDY_FILENAME\").text = filename\n",
    "session.findById(\"wnd[1]/usr/ctxtDY_FILENAME\").caretPosition = 10\n",
    "session.findById(\"wnd[1]/tbar[0]/btn[0]\").press()\n",
    "session.findById(\"wnd[0]/tbar[0]/btn[3]\").press()\n",
    "session.findById(\"wnd[0]/tbar[0]/btn[3]\").press()\n",
    "session.findById(\"wnd[0]/tbar[0]/btn[3]\").press()"
   ]
  },
  {
   "cell_type": "markdown",
   "id": "bec82b91",
   "metadata": {},
   "source": [
    "## <font color=green>10 - END OF SESSION VARIABLES</font>\n",
    "***\n"
   ]
  },
  {
   "cell_type": "code",
   "execution_count": 246,
   "id": "0c5ce3f6",
   "metadata": {},
   "outputs": [],
   "source": [
    "# Run SAP Scriptsession = None\n",
    "connection = None\n",
    "application = None\n",
    "SapGuiAuto = None"
   ]
  },
  {
   "cell_type": "markdown",
   "id": "0f34fd42",
   "metadata": {},
   "source": [
    "## <font color=green>11 - DATA TABLE</font>\n",
    "***\n",
    "Bringing data to the notebook."
   ]
  },
  {
   "cell_type": "code",
   "execution_count": 247,
   "id": "0a13d669",
   "metadata": {},
   "outputs": [
    {
     "data": {
      "text/html": [
       "<div>\n",
       "<style scoped>\n",
       "    .dataframe tbody tr th:only-of-type {\n",
       "        vertical-align: middle;\n",
       "    }\n",
       "\n",
       "    .dataframe tbody tr th {\n",
       "        vertical-align: top;\n",
       "    }\n",
       "\n",
       "    .dataframe thead th {\n",
       "        text-align: right;\n",
       "    }\n",
       "</style>\n",
       "<table border=\"1\" class=\"dataframe\">\n",
       "  <thead>\n",
       "    <tr style=\"text-align: right;\">\n",
       "      <th></th>\n",
       "      <th>Centro custo</th>\n",
       "      <th>Conta do Razão</th>\n",
       "      <th>Referência à fatura</th>\n",
       "      <th>Ano/Mês</th>\n",
       "      <th>Item</th>\n",
       "      <th>Texto cabeçalho documento</th>\n",
       "      <th>Texto</th>\n",
       "      <th>Período contábil</th>\n",
       "      <th>Documento de compras</th>\n",
       "      <th>Nome do usuário</th>\n",
       "      <th>Divisão</th>\n",
       "      <th>Conta lnçto.contrap.</th>\n",
       "      <th>Nº documento</th>\n",
       "      <th>Tipo de documento</th>\n",
       "      <th>Data de lançamento</th>\n",
       "      <th>Status</th>\n",
       "      <th>Status do documento</th>\n",
       "      <th>Montante avaliado</th>\n",
       "      <th>Data de entrada</th>\n",
       "    </tr>\n",
       "  </thead>\n",
       "  <tbody>\n",
       "    <tr>\n",
       "      <th>0</th>\n",
       "      <td>NaN</td>\n",
       "      <td>43011007.0</td>\n",
       "      <td>9.168379e+07</td>\n",
       "      <td>2023/01</td>\n",
       "      <td>11.0</td>\n",
       "      <td>NaN</td>\n",
       "      <td>FATURAMENTO CLIENTE 215067 - J C M NITEROI REF...</td>\n",
       "      <td>1.0</td>\n",
       "      <td>NaN</td>\n",
       "      <td>JCNETO</td>\n",
       "      <td>2000.0</td>\n",
       "      <td>NaN</td>\n",
       "      <td>9.168379e+07</td>\n",
       "      <td>RV</td>\n",
       "      <td>2023-01-05</td>\n",
       "      <td>NaN</td>\n",
       "      <td>NaN</td>\n",
       "      <td>107.74</td>\n",
       "      <td>2023-01-05</td>\n",
       "    </tr>\n",
       "    <tr>\n",
       "      <th>1</th>\n",
       "      <td>NaN</td>\n",
       "      <td>43011007.0</td>\n",
       "      <td>9.168380e+07</td>\n",
       "      <td>2023/01</td>\n",
       "      <td>11.0</td>\n",
       "      <td>NaN</td>\n",
       "      <td>FATURAMENTO CLIENTE 215067 - J C M NITEROI REF...</td>\n",
       "      <td>1.0</td>\n",
       "      <td>NaN</td>\n",
       "      <td>VRSILVA</td>\n",
       "      <td>2000.0</td>\n",
       "      <td>NaN</td>\n",
       "      <td>9.168380e+07</td>\n",
       "      <td>RV</td>\n",
       "      <td>2023-01-06</td>\n",
       "      <td>NaN</td>\n",
       "      <td>NaN</td>\n",
       "      <td>33.59</td>\n",
       "      <td>2023-01-06</td>\n",
       "    </tr>\n",
       "    <tr>\n",
       "      <th>2</th>\n",
       "      <td>NaN</td>\n",
       "      <td>43011007.0</td>\n",
       "      <td>9.168380e+07</td>\n",
       "      <td>2023/01</td>\n",
       "      <td>11.0</td>\n",
       "      <td>NaN</td>\n",
       "      <td>FATURAMENTO CLIENTE 215067 - J C M NITEROI REF...</td>\n",
       "      <td>1.0</td>\n",
       "      <td>NaN</td>\n",
       "      <td>VRSILVA</td>\n",
       "      <td>2000.0</td>\n",
       "      <td>NaN</td>\n",
       "      <td>9.168380e+07</td>\n",
       "      <td>RV</td>\n",
       "      <td>2023-01-06</td>\n",
       "      <td>NaN</td>\n",
       "      <td>NaN</td>\n",
       "      <td>148.30</td>\n",
       "      <td>2023-01-06</td>\n",
       "    </tr>\n",
       "    <tr>\n",
       "      <th>3</th>\n",
       "      <td>NaN</td>\n",
       "      <td>43011007.0</td>\n",
       "      <td>9.168380e+07</td>\n",
       "      <td>2023/01</td>\n",
       "      <td>11.0</td>\n",
       "      <td>NaN</td>\n",
       "      <td>FATURAMENTO CLIENTE 215067 - J C M NITEROI REF...</td>\n",
       "      <td>1.0</td>\n",
       "      <td>NaN</td>\n",
       "      <td>VRSILVA</td>\n",
       "      <td>2000.0</td>\n",
       "      <td>NaN</td>\n",
       "      <td>9.168380e+07</td>\n",
       "      <td>RV</td>\n",
       "      <td>2023-01-06</td>\n",
       "      <td>NaN</td>\n",
       "      <td>NaN</td>\n",
       "      <td>302.45</td>\n",
       "      <td>2023-01-06</td>\n",
       "    </tr>\n",
       "    <tr>\n",
       "      <th>4</th>\n",
       "      <td>NaN</td>\n",
       "      <td>43011007.0</td>\n",
       "      <td>9.168381e+07</td>\n",
       "      <td>2023/01</td>\n",
       "      <td>11.0</td>\n",
       "      <td>NaN</td>\n",
       "      <td>FATURAMENTO CLIENTE 215067 - J C M NITEROI REF...</td>\n",
       "      <td>1.0</td>\n",
       "      <td>NaN</td>\n",
       "      <td>VRSILVA</td>\n",
       "      <td>2000.0</td>\n",
       "      <td>NaN</td>\n",
       "      <td>9.168381e+07</td>\n",
       "      <td>RV</td>\n",
       "      <td>2023-01-06</td>\n",
       "      <td>NaN</td>\n",
       "      <td>NaN</td>\n",
       "      <td>33.50</td>\n",
       "      <td>2023-01-06</td>\n",
       "    </tr>\n",
       "    <tr>\n",
       "      <th>...</th>\n",
       "      <td>...</td>\n",
       "      <td>...</td>\n",
       "      <td>...</td>\n",
       "      <td>...</td>\n",
       "      <td>...</td>\n",
       "      <td>...</td>\n",
       "      <td>...</td>\n",
       "      <td>...</td>\n",
       "      <td>...</td>\n",
       "      <td>...</td>\n",
       "      <td>...</td>\n",
       "      <td>...</td>\n",
       "      <td>...</td>\n",
       "      <td>...</td>\n",
       "      <td>...</td>\n",
       "      <td>...</td>\n",
       "      <td>...</td>\n",
       "      <td>...</td>\n",
       "      <td>...</td>\n",
       "    </tr>\n",
       "    <tr>\n",
       "      <th>533</th>\n",
       "      <td>NaN</td>\n",
       "      <td>43011010.0</td>\n",
       "      <td>4.900006e+09</td>\n",
       "      <td>2023/01</td>\n",
       "      <td>2.0</td>\n",
       "      <td>NaN</td>\n",
       "      <td>SaídaMerc/fornecimnt Amostras Prods - SD</td>\n",
       "      <td>1.0</td>\n",
       "      <td>NaN</td>\n",
       "      <td>LOLIVEIRA</td>\n",
       "      <td>3000.0</td>\n",
       "      <td>NaN</td>\n",
       "      <td>4.900006e+09</td>\n",
       "      <td>WL</td>\n",
       "      <td>2023-01-12</td>\n",
       "      <td>NaN</td>\n",
       "      <td>NaN</td>\n",
       "      <td>0.23</td>\n",
       "      <td>2023-01-12</td>\n",
       "    </tr>\n",
       "    <tr>\n",
       "      <th>534</th>\n",
       "      <td>NaN</td>\n",
       "      <td>43011010.0</td>\n",
       "      <td>4.900007e+09</td>\n",
       "      <td>2023/01</td>\n",
       "      <td>2.0</td>\n",
       "      <td>NaN</td>\n",
       "      <td>SaídaMerc/fornecimnt Amostras Prods - SD</td>\n",
       "      <td>1.0</td>\n",
       "      <td>NaN</td>\n",
       "      <td>MFATUM</td>\n",
       "      <td>3000.0</td>\n",
       "      <td>NaN</td>\n",
       "      <td>4.900007e+09</td>\n",
       "      <td>WL</td>\n",
       "      <td>2023-01-13</td>\n",
       "      <td>NaN</td>\n",
       "      <td>NaN</td>\n",
       "      <td>-170.66</td>\n",
       "      <td>2023-01-13</td>\n",
       "    </tr>\n",
       "    <tr>\n",
       "      <th>535</th>\n",
       "      <td>NaN</td>\n",
       "      <td>43011010.0</td>\n",
       "      <td>4.900007e+09</td>\n",
       "      <td>2023/01</td>\n",
       "      <td>2.0</td>\n",
       "      <td>NaN</td>\n",
       "      <td>SaídaMerc/fornecimnt Amostras Prods - SD</td>\n",
       "      <td>1.0</td>\n",
       "      <td>NaN</td>\n",
       "      <td>MFATUM</td>\n",
       "      <td>3000.0</td>\n",
       "      <td>NaN</td>\n",
       "      <td>4.900007e+09</td>\n",
       "      <td>WL</td>\n",
       "      <td>2023-01-13</td>\n",
       "      <td>NaN</td>\n",
       "      <td>NaN</td>\n",
       "      <td>-177.51</td>\n",
       "      <td>2023-01-13</td>\n",
       "    </tr>\n",
       "    <tr>\n",
       "      <th>536</th>\n",
       "      <td>NaN</td>\n",
       "      <td>43011010.0</td>\n",
       "      <td>4.900007e+09</td>\n",
       "      <td>2023/01</td>\n",
       "      <td>1.0</td>\n",
       "      <td>NaN</td>\n",
       "      <td>SaídaMerc/fornecimnt Amostras Prods - SD</td>\n",
       "      <td>1.0</td>\n",
       "      <td>NaN</td>\n",
       "      <td>MFATUM</td>\n",
       "      <td>3000.0</td>\n",
       "      <td>NaN</td>\n",
       "      <td>4.900007e+09</td>\n",
       "      <td>WL</td>\n",
       "      <td>2023-01-13</td>\n",
       "      <td>NaN</td>\n",
       "      <td>NaN</td>\n",
       "      <td>-0.05</td>\n",
       "      <td>2023-01-13</td>\n",
       "    </tr>\n",
       "    <tr>\n",
       "      <th>537</th>\n",
       "      <td>NaN</td>\n",
       "      <td>NaN</td>\n",
       "      <td>NaN</td>\n",
       "      <td>NaN</td>\n",
       "      <td>NaN</td>\n",
       "      <td>NaN</td>\n",
       "      <td>NaN</td>\n",
       "      <td>NaN</td>\n",
       "      <td>NaN</td>\n",
       "      <td>NaN</td>\n",
       "      <td>NaN</td>\n",
       "      <td>NaN</td>\n",
       "      <td>NaN</td>\n",
       "      <td>NaN</td>\n",
       "      <td>NaT</td>\n",
       "      <td>NaN</td>\n",
       "      <td>NaN</td>\n",
       "      <td>78621.97</td>\n",
       "      <td>NaT</td>\n",
       "    </tr>\n",
       "  </tbody>\n",
       "</table>\n",
       "<p>538 rows × 19 columns</p>\n",
       "</div>"
      ],
      "text/plain": [
       "     Centro custo  Conta do Razão  Referência à fatura  Ano/Mês  Item  \\\n",
       "0             NaN      43011007.0         9.168379e+07  2023/01  11.0   \n",
       "1             NaN      43011007.0         9.168380e+07  2023/01  11.0   \n",
       "2             NaN      43011007.0         9.168380e+07  2023/01  11.0   \n",
       "3             NaN      43011007.0         9.168380e+07  2023/01  11.0   \n",
       "4             NaN      43011007.0         9.168381e+07  2023/01  11.0   \n",
       "..            ...             ...                  ...      ...   ...   \n",
       "533           NaN      43011010.0         4.900006e+09  2023/01   2.0   \n",
       "534           NaN      43011010.0         4.900007e+09  2023/01   2.0   \n",
       "535           NaN      43011010.0         4.900007e+09  2023/01   2.0   \n",
       "536           NaN      43011010.0         4.900007e+09  2023/01   1.0   \n",
       "537           NaN             NaN                  NaN      NaN   NaN   \n",
       "\n",
       "     Texto cabeçalho documento  \\\n",
       "0                          NaN   \n",
       "1                          NaN   \n",
       "2                          NaN   \n",
       "3                          NaN   \n",
       "4                          NaN   \n",
       "..                         ...   \n",
       "533                        NaN   \n",
       "534                        NaN   \n",
       "535                        NaN   \n",
       "536                        NaN   \n",
       "537                        NaN   \n",
       "\n",
       "                                                 Texto  Período contábil  \\\n",
       "0    FATURAMENTO CLIENTE 215067 - J C M NITEROI REF...               1.0   \n",
       "1    FATURAMENTO CLIENTE 215067 - J C M NITEROI REF...               1.0   \n",
       "2    FATURAMENTO CLIENTE 215067 - J C M NITEROI REF...               1.0   \n",
       "3    FATURAMENTO CLIENTE 215067 - J C M NITEROI REF...               1.0   \n",
       "4    FATURAMENTO CLIENTE 215067 - J C M NITEROI REF...               1.0   \n",
       "..                                                 ...               ...   \n",
       "533           SaídaMerc/fornecimnt Amostras Prods - SD               1.0   \n",
       "534           SaídaMerc/fornecimnt Amostras Prods - SD               1.0   \n",
       "535           SaídaMerc/fornecimnt Amostras Prods - SD               1.0   \n",
       "536           SaídaMerc/fornecimnt Amostras Prods - SD               1.0   \n",
       "537                                                NaN               NaN   \n",
       "\n",
       "     Documento de compras Nome do usuário  Divisão  Conta lnçto.contrap.  \\\n",
       "0                     NaN          JCNETO   2000.0                   NaN   \n",
       "1                     NaN         VRSILVA   2000.0                   NaN   \n",
       "2                     NaN         VRSILVA   2000.0                   NaN   \n",
       "3                     NaN         VRSILVA   2000.0                   NaN   \n",
       "4                     NaN         VRSILVA   2000.0                   NaN   \n",
       "..                    ...             ...      ...                   ...   \n",
       "533                   NaN       LOLIVEIRA   3000.0                   NaN   \n",
       "534                   NaN          MFATUM   3000.0                   NaN   \n",
       "535                   NaN          MFATUM   3000.0                   NaN   \n",
       "536                   NaN          MFATUM   3000.0                   NaN   \n",
       "537                   NaN             NaN      NaN                   NaN   \n",
       "\n",
       "     Nº documento Tipo de documento Data de lançamento  Status  \\\n",
       "0    9.168379e+07                RV         2023-01-05     NaN   \n",
       "1    9.168380e+07                RV         2023-01-06     NaN   \n",
       "2    9.168380e+07                RV         2023-01-06     NaN   \n",
       "3    9.168380e+07                RV         2023-01-06     NaN   \n",
       "4    9.168381e+07                RV         2023-01-06     NaN   \n",
       "..            ...               ...                ...     ...   \n",
       "533  4.900006e+09                WL         2023-01-12     NaN   \n",
       "534  4.900007e+09                WL         2023-01-13     NaN   \n",
       "535  4.900007e+09                WL         2023-01-13     NaN   \n",
       "536  4.900007e+09                WL         2023-01-13     NaN   \n",
       "537           NaN               NaN                NaT     NaN   \n",
       "\n",
       "     Status do documento  Montante avaliado Data de entrada  \n",
       "0                    NaN             107.74      2023-01-05  \n",
       "1                    NaN              33.59      2023-01-06  \n",
       "2                    NaN             148.30      2023-01-06  \n",
       "3                    NaN             302.45      2023-01-06  \n",
       "4                    NaN              33.50      2023-01-06  \n",
       "..                   ...                ...             ...  \n",
       "533                  NaN               0.23      2023-01-12  \n",
       "534                  NaN            -170.66      2023-01-13  \n",
       "535                  NaN            -177.51      2023-01-13  \n",
       "536                  NaN              -0.05      2023-01-13  \n",
       "537                  NaN           78621.97             NaT  \n",
       "\n",
       "[538 rows x 19 columns]"
      ]
     },
     "execution_count": 247,
     "metadata": {},
     "output_type": "execute_result"
    }
   ],
   "source": [
    "df = pd.read_excel(folderdir + filename, sheet_name = 'Sheet1')\n",
    "df"
   ]
  },
  {
   "cell_type": "markdown",
   "id": "4d22fc2e",
   "metadata": {},
   "source": [
    "## <font color=green>12 - END OF EXCEL SESSION</font>\n",
    "***"
   ]
  },
  {
   "cell_type": "code",
   "execution_count": 248,
   "id": "a6de5cef",
   "metadata": {},
   "outputs": [
    {
     "data": {
      "text/plain": [
       "0"
      ]
     },
     "execution_count": 248,
     "metadata": {},
     "output_type": "execute_result"
    }
   ],
   "source": [
    "subprocess.call([\"taskkill\",\"/f\",\"/im\",\"EXCEL.EXE\"])"
   ]
  }
 ],
 "metadata": {
  "kernelspec": {
   "display_name": "Python 3 (ipykernel)",
   "language": "python",
   "name": "python3"
  },
  "language_info": {
   "codemirror_mode": {
    "name": "ipython",
    "version": 3
   },
   "file_extension": ".py",
   "mimetype": "text/x-python",
   "name": "python",
   "nbconvert_exporter": "python",
   "pygments_lexer": "ipython3",
   "version": "3.9.16"
  }
 },
 "nbformat": 4,
 "nbformat_minor": 5
}
